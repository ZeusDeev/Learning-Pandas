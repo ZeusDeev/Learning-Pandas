{
 "cells": [
  {
   "cell_type": "markdown",
   "metadata": {},
   "source": [
    "### Primeros pasos aprendiendo a usar **Pandas**\n",
    "    - Manejo de series con Listas y Diccionarios\n",
    "    - Manejo de valores numericos, cadena y flotante"
   ]
  },
  {
   "cell_type": "markdown",
   "metadata": {},
   "source": [
    "### Manejo de series con **listas** y valores **numericos**"
   ]
  },
  {
   "cell_type": "code",
   "execution_count": 2,
   "metadata": {},
   "outputs": [],
   "source": [
    "import pandas as pd"
   ]
  },
  {
   "cell_type": "code",
   "execution_count": 3,
   "metadata": {},
   "outputs": [
    {
     "name": "stdout",
     "output_type": "stream",
     "text": [
      "0      4\n",
      "1      9\n",
      "2      2\n",
      "3      6\n",
      "4     10\n",
      "5    200\n",
      "dtype: int64\n"
     ]
    }
   ],
   "source": [
    "# Con series nos permite generar, como su nombre lo dice, una serie de elementos ya sea float, int o objetc (String)\n",
    "naranjas = pd.Series([4,9,2,6,10,200])\n",
    "\n",
    "print(naranjas)\n",
    "\n"
   ]
  },
  {
   "cell_type": "markdown",
   "metadata": {},
   "source": [
    "### Manejo de series con **listas** y valores **cadena**"
   ]
  },
  {
   "cell_type": "markdown",
   "metadata": {},
   "source": [
    "Con series no solo podemos trabajar con valores numericos, si no que con valores tipo cadena o String"
   ]
  },
  {
   "cell_type": "code",
   "execution_count": 8,
   "metadata": {},
   "outputs": [
    {
     "name": "stdout",
     "output_type": "stream",
     "text": [
      "0    Calculo Integral\n",
      "1    Calculo Vectoria\n",
      "2      Algebra Lineal\n",
      "3            Big Data\n",
      "dtype: object\n"
     ]
    }
   ],
   "source": [
    "materias = pd.Series(['Calculo Integral', 'Calculo Vectoria', 'Algebra Lineal', 'Big Data'])\n",
    "\n",
    "print(materias)"
   ]
  },
  {
   "cell_type": "markdown",
   "metadata": {},
   "source": [
    "### Manejo de series con **listas** y valores **Flotantes**"
   ]
  },
  {
   "cell_type": "code",
   "execution_count": 9,
   "metadata": {},
   "outputs": [
    {
     "name": "stdout",
     "output_type": "stream",
     "text": [
      "0     8.9\n",
      "1     4.3\n",
      "2     5.5\n",
      "3     9.8\n",
      "4    10.0\n",
      "dtype: float64\n"
     ]
    }
   ],
   "source": [
    "calificaciones = pd.Series([8.9, 4.3, 5.5, 9.8, 10.0])\n",
    "print(calificaciones)"
   ]
  },
  {
   "cell_type": "markdown",
   "metadata": {},
   "source": [
    "### Manejo de series con **Diccionarios** y valores **Cadena** y **numericos**"
   ]
  },
  {
   "cell_type": "code",
   "execution_count": 10,
   "metadata": {},
   "outputs": [
    {
     "name": "stdout",
     "output_type": "stream",
     "text": [
      "Matematicas      60\n",
      "Historia        100\n",
      "Programacion    100\n",
      "dtype: int64\n"
     ]
    }
   ],
   "source": [
    "materias_calificaciones = pd.Series({'Matematicas':60,'Historia':100, 'Programacion': 100})\n",
    "\n",
    "print(materias_calificaciones)\n"
   ]
  },
  {
   "cell_type": "markdown",
   "metadata": {},
   "source": [
    "### Manejo de series con **Diccionarios** y valores **Cadena** y **flotantes**"
   ]
  },
  {
   "cell_type": "code",
   "execution_count": 11,
   "metadata": {},
   "outputs": [
    {
     "name": "stdout",
     "output_type": "stream",
     "text": [
      "Matematicas      70.5\n",
      "Historia        100.0\n",
      "Programacion     90.6\n",
      "dtype: float64\n"
     ]
    }
   ],
   "source": [
    "materias_calificaciones = pd.Series({'Matematicas':70.5,'Historia':100.0, 'Programacion': 90.6})\n",
    "\n",
    "print(materias_calificaciones)\n"
   ]
  }
 ],
 "metadata": {
  "kernelspec": {
   "display_name": "Python 3",
   "language": "python",
   "name": "python3"
  },
  "language_info": {
   "codemirror_mode": {
    "name": "ipython",
    "version": 3
   },
   "file_extension": ".py",
   "mimetype": "text/x-python",
   "name": "python",
   "nbconvert_exporter": "python",
   "pygments_lexer": "ipython3",
   "version": "3.12.2"
  }
 },
 "nbformat": 4,
 "nbformat_minor": 2
}
