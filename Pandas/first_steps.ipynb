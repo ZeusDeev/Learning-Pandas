{
 "cells": [
  {
   "cell_type": "markdown",
   "metadata": {},
   "source": [
    "### Primeros pasos aprendiendo a usar **Pandas**\n",
    "    - Manejo de series con Listas y Diccionarios\n",
    "    - Manejo de valores numericos, cadena y flotante"
   ]
  },
  {
   "cell_type": "markdown",
   "metadata": {},
   "source": [
    "### Manejo de series con **listas** y valores **numericos**"
   ]
  },
  {
   "cell_type": "code",
   "execution_count": 2,
   "metadata": {},
   "outputs": [],
   "source": [
    "import pandas as pd"
   ]
  },
  {
   "cell_type": "code",
   "execution_count": 3,
   "metadata": {},
   "outputs": [
    {
     "name": "stdout",
     "output_type": "stream",
     "text": [
      "0      4\n",
      "1      9\n",
      "2      2\n",
      "3      6\n",
      "4     10\n",
      "5    200\n",
      "dtype: int64\n"
     ]
    }
   ],
   "source": [
    "# Con series nos permite generar, como su nombre lo dice, una serie de elementos ya sea float, int o objetc (String)\n",
    "naranjas = pd.Series([4,9,2,6,10,200])\n",
    "\n",
    "print(naranjas)\n",
    "\n"
   ]
  },
  {
   "cell_type": "markdown",
   "metadata": {},
   "source": [
    "### Manejo de series con **listas** y valores **cadena**"
   ]
  },
  {
   "cell_type": "markdown",
   "metadata": {},
   "source": [
    "Con series no solo podemos trabajar con valores numericos, si no que con valores tipo cadena o String"
   ]
  },
  {
   "cell_type": "code",
   "execution_count": 8,
   "metadata": {},
   "outputs": [
    {
     "name": "stdout",
     "output_type": "stream",
     "text": [
      "0    Calculo Integral\n",
      "1    Calculo Vectoria\n",
      "2      Algebra Lineal\n",
      "3            Big Data\n",
      "dtype: object\n"
     ]
    }
   ],
   "source": [
    "materias = pd.Series(['Calculo Integral', 'Calculo Vectoria', 'Algebra Lineal', 'Big Data'])\n",
    "\n",
    "print(materias)"
   ]
  },
  {
   "cell_type": "markdown",
   "metadata": {},
   "source": [
    "### Manejo de series con **listas** y valores **Flotantes**"
   ]
  },
  {
   "cell_type": "code",
   "execution_count": 9,
   "metadata": {},
   "outputs": [
    {
     "name": "stdout",
     "output_type": "stream",
     "text": [
      "0     8.9\n",
      "1     4.3\n",
      "2     5.5\n",
      "3     9.8\n",
      "4    10.0\n",
      "dtype: float64\n"
     ]
    }
   ],
   "source": [
    "calificaciones = pd.Series([8.9, 4.3, 5.5, 9.8, 10.0])\n",
    "print(calificaciones)"
   ]
  },
  {
   "cell_type": "markdown",
   "metadata": {},
   "source": [
    "### Manejo de series con **Diccionarios** y valores **Cadena** y **numericos**"
   ]
  },
  {
   "cell_type": "code",
   "execution_count": 10,
   "metadata": {},
   "outputs": [
    {
     "name": "stdout",
     "output_type": "stream",
     "text": [
      "Matematicas      60\n",
      "Historia        100\n",
      "Programacion    100\n",
      "dtype: int64\n"
     ]
    }
   ],
   "source": [
    "materias_calificaciones = pd.Series({'Matematicas':60,'Historia':100, 'Programacion': 100})\n",
    "\n",
    "print(materias_calificaciones)\n"
   ]
  },
  {
   "cell_type": "markdown",
   "metadata": {},
   "source": [
    "### Manejo de series con **Diccionarios** y valores **Cadena** y **flotantes**"
   ]
  },
  {
   "cell_type": "code",
   "execution_count": 11,
   "metadata": {},
   "outputs": [
    {
     "name": "stdout",
     "output_type": "stream",
     "text": [
      "Matematicas      70.5\n",
      "Historia        100.0\n",
      "Programacion     90.6\n",
      "dtype: float64\n"
     ]
    }
   ],
   "source": [
    "materias_calificaciones = pd.Series({'Matematicas':70.5,'Historia':100.0, 'Programacion': 90.6})\n",
    "\n",
    "print(materias_calificaciones)\n"
   ]
  },
  {
   "cell_type": "markdown",
   "metadata": {},
   "source": [
    "---------------------------------------------------------------------\n",
    "## Propiedades de las Series:\n",
    "\n",
    "    - size: Devuelve el número de elementos\n",
    "    - index: Devuelve una lista con los nombres de las filas de los DataFrame\n",
    "    - dtype: Devuelve el tipo de datos de los elementos de una serie\n",
    "\n",
    "---------------------------------------------------------------------\n"
   ]
  },
  {
   "cell_type": "code",
   "execution_count": 17,
   "metadata": {},
   "outputs": [],
   "source": [
    "numeros = pd.Series([2,4,6,8,10,12,14])"
   ]
  },
  {
   "cell_type": "code",
   "execution_count": 19,
   "metadata": {},
   "outputs": [
    {
     "data": {
      "text/plain": [
       "7"
      ]
     },
     "execution_count": 19,
     "metadata": {},
     "output_type": "execute_result"
    }
   ],
   "source": [
    "#devuelve el total de elementos que existe en nuestra serie, que son 7, iniciando el conteo de 1 hasta n \n",
    "numeros.size "
   ]
  },
  {
   "cell_type": "code",
   "execution_count": 28,
   "metadata": {},
   "outputs": [
    {
     "data": {
      "text/plain": [
       "RangeIndex(start=0, stop=7, step=1)"
      ]
     },
     "execution_count": 28,
     "metadata": {},
     "output_type": "execute_result"
    }
   ],
   "source": [
    "#nos devuelve 3 valores, de dónde inicia el la serie(posición 0) dónde termina (posición 6, dónde la posición 6 es igual a 7) y dónde arranca cuando éste se muestra en ejecución que es 1, que tecnicamente en éste ejemplo empezaría a mostrar los valores desdé el número 2 hasta el número 14\n",
    "numeros.index"
   ]
  },
  {
   "cell_type": "code",
   "execution_count": 27,
   "metadata": {},
   "outputs": [
    {
     "data": {
      "text/plain": [
       "dtype('int64')"
      ]
     },
     "execution_count": 27,
     "metadata": {},
     "output_type": "execute_result"
    }
   ],
   "source": [
    "#devuelve el tipo de dato en éste caso tipo numérico(int o int64), esto varía según sean los valores flotante o cadena en nuestra serie \n",
    "\n",
    "numeros.dtype"
   ]
  }
 ],
 "metadata": {
  "kernelspec": {
   "display_name": "Python 3",
   "language": "python",
   "name": "python3"
  },
  "language_info": {
   "codemirror_mode": {
    "name": "ipython",
    "version": 3
   },
   "file_extension": ".py",
   "mimetype": "text/x-python",
   "name": "python",
   "nbconvert_exporter": "python",
   "pygments_lexer": "ipython3",
   "version": "3.12.2"
  }
 },
 "nbformat": 4,
 "nbformat_minor": 2
}
